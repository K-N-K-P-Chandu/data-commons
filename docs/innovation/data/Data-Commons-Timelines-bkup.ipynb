{
  "nbformat": 4,
  "nbformat_minor": 0,
  "metadata": {
    "colab": {
      "provenance": []
    },
    "kernelspec": {
      "name": "python3",
      "display_name": "Python 3"
    },
    "language_info": {
      "name": "python"
    }
  },
  "cells": [
    {
      "cell_type": "markdown",
      "source": [
        "# Data Commons Timelines\n",
        "Generate timeline data from Google Data Commons using Python.  \n",
        "We confirmed Javascript API does not support loading more than one year.  \n",
        "Confirmation feed/view tests: [forest timeline data feed sample](https://model.earth/feed/view/#feed=LandCoverFraction_Forest) and [GDC test](https://model.earth/feed/view/#feed=gdc)\n",
        "\n",
        "DONE: Loren copied canopy Python from [Forest Python](https://model.earth/data-commons/docs/conservation/).\n",
        "\n",
        "TO DO: Loop through an array of dataset dcid values [\"LandCoverFraction_Forest\", \"etc\"]\n",
        "\n",
        "TO DO: Generate timeline data for a set of about 10 countries and/or regions of continents.\n",
        "\n",
        "About pulling GDC time series for a place:\n",
        "https://docs.datacommons.org/api/pandas/time_series.html\n",
        "\n",
        "TO DO: Find a way to identify if timeline data is available for each scope:  \n",
        "continents, countries, states, counties and/or zips.\n",
        "\n",
        "TO DO: Save .csv files to:  \n",
        "https://github.com/ModelEarth/data-commons/tree/main/docs/innovation/data/[scope]  \n",
        "Generate the \"data/[scope]\" folder if it does not exist.\n",
        "\n",
        "TO DO: Save a .json list of the csv files in each scope folder.\n",
        "\n",
        "Backup: https://github.com/ModelEarth/data-commons/tree/main/docs/innovation/data/Data-Commons-Timelines-bkup.ipynb"
      ],
      "metadata": {
        "id": "6uieiqfZ1k3Y"
      }
    },
    {
      "cell_type": "code",
      "execution_count": 5,
      "metadata": {
        "colab": {
          "base_uri": "https://localhost:8080/"
        },
        "id": "QiX2yJYP1Y8e",
        "outputId": "6f927f13-fcbd-4f93-90b7-5825425f22f4"
      },
      "outputs": [
        {
          "output_type": "stream",
          "name": "stdout",
          "text": [
            "Requirement already satisfied: datacommons_pandas in /usr/local/lib/python3.10/dist-packages (0.0.3)\n",
            "Requirement already satisfied: six in /usr/local/lib/python3.10/dist-packages (from datacommons_pandas) (1.16.0)\n",
            "Requirement already satisfied: pandas in /usr/local/lib/python3.10/dist-packages (from datacommons_pandas) (2.0.3)\n",
            "Requirement already satisfied: python-dateutil>=2.8.2 in /usr/local/lib/python3.10/dist-packages (from pandas->datacommons_pandas) (2.8.2)\n",
            "Requirement already satisfied: pytz>=2020.1 in /usr/local/lib/python3.10/dist-packages (from pandas->datacommons_pandas) (2023.4)\n",
            "Requirement already satisfied: tzdata>=2022.1 in /usr/local/lib/python3.10/dist-packages (from pandas->datacommons_pandas) (2024.1)\n",
            "Requirement already satisfied: numpy>=1.21.0 in /usr/local/lib/python3.10/dist-packages (from pandas->datacommons_pandas) (1.25.2)\n",
            "Saved: LandCoverFraction_Forest.csv\n"
          ]
        }
      ],
      "source": [
        "# Install datacommons\n",
        "!pip install datacommons_pandas # --upgrade --quiet\n",
        "\n",
        "import datacommons_pandas as dc\n",
        "import pandas as pd\n",
        "import os\n",
        "\n",
        "# Retrieve all counties in Georgia (state code: 13)\n",
        "georgia_counties_info = dc.get_places_in(['geoId/13'], 'County')\n",
        "\n",
        "# Extract the DCIDs of the counties\n",
        "georgia_counties_dcids = georgia_counties_info['geoId/13']\n",
        "\n",
        "# Fetch LandCoverFraction_Forest data for each county in Georgia\n",
        "forest_cover_data = {}\n",
        "for county_dcid in georgia_counties_dcids:\n",
        "    forest_cover_data[county_dcid] = dc.get_stat_all([county_dcid], [\"LandCoverFraction_Forest\"])\n",
        "\n",
        "df = pd.DataFrame(forest_cover_data)\n",
        "outputFolder = \"\"\n",
        "output_name = \"LandCoverFraction_Forest.csv\"\n",
        "df.to_csv(os.path.join(outputFolder, output_name),index=False)\n",
        "print(\"Saved: \" + output_name)\n",
        "\n",
        "# pulls all available years but its out of order and will need to sort it with a JSON parser in descending/ascending order:\n",
        "# 'LandCoverFraction_Forest': {'sourceSeries': [{'val': {'2015': 57.712213157748906, '2019': 56.10225251926496,\n",
        "# '2017': 57.329201724571796, '2016': 57.08418588188137, '2018': 58.540199494228055}"
      ]
    }
  ]
}