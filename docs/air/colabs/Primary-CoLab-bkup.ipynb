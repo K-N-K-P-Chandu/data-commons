{
  "nbformat": 4,
  "nbformat_minor": 0,
  "metadata": {
    "colab": {
      "provenance": []
    },
    "kernelspec": {
      "name": "python3",
      "display_name": "Python 3"
    },
    "language_info": {
      "name": "python"
    }
  },
  "cells": [
    {
      "cell_type": "markdown",
      "source": [
        "# Notes\n",
        "\n",
        " - I am starting with simple code that we can build up as necessary. It uses the *requests* library to pull the API, returning a JSON file.\n",
        "\n",
        "- The value for the variable gdc-endpoint needs to be added.\n",
        "- Learn more in our View results in our [Observable Data Commons](https://model.earth/data-commons/dist/)"
      ],
      "metadata": {
        "id": "Mr8SA8GPTsOL"
      }
    },
    {
      "cell_type": "code",
      "execution_count": null,
      "metadata": {
        "id": "j1cdU0qzCPPG"
      },
      "outputs": [],
      "source": [
        "# Install datacommons_pandas\n",
        "!pip install datacommons_pandas --upgrade --quiet\n",
        "# Import Data Commons\n",
        "import datacommons_pandas as dc\n",
        "\n",
        "#Import other necessary libraries\n",
        "import requests"
      ]
    },
    {
      "cell_type": "code",
      "source": [
        "#API endpoint to querty (str)\n",
        "gdc_enpoint = ''"
      ],
      "metadata": {
        "id": "h7wTOZntUiAl"
      },
      "execution_count": null,
      "outputs": []
    },
    {
      "cell_type": "code",
      "source": [
        "def get_data_from_gdc(endpoint, params=None):\n",
        "    try:\n",
        "        # Make a GET request to the GDC API\n",
        "        response = requests.get(endpoint, params=params)\n",
        "        # Raise an exception for any HTTP errors\n",
        "        response.raise_for_status()\n",
        "\n",
        "        # Parse the JSON response\n",
        "        data = response.json()\n",
        "        return data\n",
        "\n",
        "    except requests.exceptions.RequestException as e:\n",
        "        print(\"Error fetching data:\", e)\n",
        "        return None\n"
      ],
      "metadata": {
        "id": "hVoq_0niVoOe"
      },
      "execution_count": null,
      "outputs": []
    },
    {
      "cell_type": "code",
      "source": [
        "#Add body of function after having Paul's Colab\n",
        "#parameters = dict\n",
        "def receive_parameters(parameters):\n",
        "\n",
        "    # Process the received parameters\n",
        "    print(\"Received parameters from CoLab:\")\n"
      ],
      "metadata": {
        "id": "RLr9WEBuGJK-"
      },
      "execution_count": null,
      "outputs": []
    },
    {
      "cell_type": "code",
      "source": [
        "def process_data_with_parameters(parameters):\n",
        "\n",
        "    data = get_data_from_gdc(gdc_endpoint, params=parameters)\n",
        "\n",
        "    # Process the retrieved data\n",
        "    if data:\n",
        "        # Process the data here\n",
        "        print(\"Data retrieved successfully!\")\n",
        "    else:\n",
        "        print(\"Failed to fetch data from the GDC API.\")"
      ],
      "metadata": {
        "id": "4dwElyk-Wa8A"
      },
      "execution_count": null,
      "outputs": []
    }
  ]
}